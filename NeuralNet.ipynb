{
 "cells": [
  {
   "cell_type": "code",
   "id": "cf9ee673236cc16",
   "metadata": {
    "ExecuteTime": {
     "end_time": "2024-11-24T00:03:25.715148Z",
     "start_time": "2024-11-24T00:03:25.711371Z"
    }
   },
   "source": [
    "import numpy as np\n",
    "import tensorflow as tf\n",
    "import matplotlib.pyplot as plt\n",
    "import seaborn as sns\n",
    "import pandas as pd\n",
    "from sklearn.model_selection import StratifiedKFold\n",
    "from sklearn.model_selection import train_test_split\n",
    "from tensorflow.keras.optimizers import Adam\n",
    "from tensorflow.keras.layers import Input, BatchNormalization, Dropout, Dense\n",
    "from sklearn.metrics import accuracy_score, precision_score, recall_score\n",
    "from tensorflow.keras import regularizers\n",
    "from keras.src.initializers import HeNormal"
   ],
   "outputs": [],
   "execution_count": 35
  },
  {
   "metadata": {
    "ExecuteTime": {
     "end_time": "2024-11-24T00:03:28.131288Z",
     "start_time": "2024-11-24T00:03:28.128827Z"
    }
   },
   "cell_type": "code",
   "source": [
    "# Hyperparameters \n",
    "num_epochs = 100\n",
    "batch_size = 64"
   ],
   "id": "baa784d46c9ec526",
   "outputs": [],
   "execution_count": 36
  },
  {
   "metadata": {
    "ExecuteTime": {
     "end_time": "2024-11-24T00:03:29.840980Z",
     "start_time": "2024-11-24T00:03:29.836422Z"
    }
   },
   "cell_type": "code",
   "source": [
    "def load_data(n, data_path=None, label_path=None):\n",
    "    if data_path and label_path:\n",
    "        data_to_load = data_path\n",
    "        labels_to_load = label_path\n",
    "        X = np.load(data_to_load)\n",
    "        y = np.load(labels_to_load)\n",
    "    else:\n",
    "        data_to_load = f'./Datasets/kryptonite-{n}-X.npy'\n",
    "        additional_data = f'./Datasets/additional-kryptonite-{n}-X.npy'\n",
    "\n",
    "        labels_to_load = f'./Datasets/kryptonite-{n}-y.npy'\n",
    "        additional_labels = f'./Datasets/additional-kryptonite-{n}-y.npy'\n",
    "        if n >= 24:\n",
    "            X = np.vstack((np.load(data_to_load), np.load(additional_data)))\n",
    "            y = np.vstack((np.array(np.load(labels_to_load)).reshape(-1, 1),\n",
    "                           np.array(np.load(additional_labels)).reshape(-1, 1)))\n",
    "        else:\n",
    "            X = np.load(data_to_load)\n",
    "            y = np.load(labels_to_load)\n",
    "    return X, y"
   ],
   "id": "f5afd6f3f8821e51",
   "outputs": [],
   "execution_count": 37
  },
  {
   "metadata": {
    "ExecuteTime": {
     "end_time": "2024-11-24T00:03:32.201365Z",
     "start_time": "2024-11-24T00:03:32.198170Z"
    }
   },
   "cell_type": "code",
   "source": [
    "def normalize_and_split_data(X, y):\n",
    "    binary_X = (X >= 0.5).astype(int)\n",
    "    X_train, X_test, y_train, y_test = train_test_split(binary_X, y, test_size=0.2, stratify=y)\n",
    "    return X_train, X_test, y_train, y_test"
   ],
   "id": "8031838b0ad48fa7",
   "outputs": [],
   "execution_count": 38
  },
  {
   "metadata": {
    "ExecuteTime": {
     "end_time": "2024-11-24T00:20:39.168069Z",
     "start_time": "2024-11-24T00:20:39.163677Z"
    }
   },
   "cell_type": "code",
   "source": [
    "def create_model(num_features):\n",
    "    dropout = 0.05\n",
    "    l2_reg = 5e-6\n",
    "    model = tf.keras.Sequential([\n",
    "        Input(shape=(num_features,)),\n",
    "        Dense(128, activation='relu', kernel_regularizer=regularizers.L2(l2_reg), kernel_initializer=HeNormal()),\n",
    "        BatchNormalization(),\n",
    "        Dense(32, activation='relu', kernel_regularizer=regularizers.L2(l2_reg)),\n",
    "        Dropout(dropout),\n",
    "        Dense(16, activation='relu', kernel_regularizer=regularizers.L2(l2_reg)),\n",
    "        Dropout(dropout),\n",
    "        Dense(1, activation='sigmoid')\n",
    "    ])\n",
    "    model.compile(optimizer=Adam(), loss='binary_crossentropy', metrics=['accuracy'])\n",
    "    return model"
   ],
   "id": "7a7e4e0599825496",
   "outputs": [],
   "execution_count": 44
  },
  {
   "metadata": {
    "ExecuteTime": {
     "end_time": "2024-11-24T00:03:46.096786Z",
     "start_time": "2024-11-24T00:03:46.088839Z"
    }
   },
   "cell_type": "code",
   "source": [
    "def do_cross_validation(X_train, y_train):\n",
    "    fold_counter = 0\n",
    "    kfold = StratifiedKFold(n_splits=5, shuffle=True, random_state=80)\n",
    "    accuracies = []\n",
    "    for train, val in kfold.split(X_train, y_train):\n",
    "        model = create_model(X_train.shape[1])\n",
    "        trained_model = model.fit(X_train[train], y_train[train], epochs=num_epochs, batch_size=batch_size, verbose=1, validation_data=(X_train[val], y_train[val]))\n",
    "        scores = model.evaluate(X_train[val], y_train[val], verbose=0)\n",
    "        accuracies.append(scores[1])\n",
    "        print(f\"Fold {fold_counter} Accuracy: {scores[1] * 100:.2f}%\")\n",
    "        fold_counter += 1\n",
    "\n",
    "    plt.figure(figsize=(12, 4))\n",
    "    plt.subplot(1, 2, 1)\n",
    "    plt.plot(trained_model.history['accuracy'], label='Train Accuracy')\n",
    "    plt.plot(trained_model.history['val_accuracy'], label='Validation Accuracy')\n",
    "    plt.xlabel('Epoch')\n",
    "    plt.ylabel('Accuracy')\n",
    "    plt.legend()\n",
    "    plt.title('Training and Validation Accuracy')\n",
    "\n",
    "    plt.subplot(1, 2, 2)\n",
    "    plt.plot(trained_model.history['loss'], label='Train Loss')\n",
    "    plt.plot(trained_model.history['val_loss'], label='Validation Loss')\n",
    "    plt.xlabel('Epoch')\n",
    "    plt.ylabel('Loss')\n",
    "    plt.legend()\n",
    "    plt.title('Training and Validation Loss')\n",
    "    plt.show()\n",
    "\n",
    "    average_accuracy = np.mean(accuracies)\n",
    "    print(f\"Average Accuracy: {average_accuracy: .4f}\")\n"
   ],
   "id": "f91573058092e2a9",
   "outputs": [],
   "execution_count": 40
  },
  {
   "metadata": {
    "ExecuteTime": {
     "end_time": "2024-11-25T16:44:28.499674Z",
     "start_time": "2024-11-25T16:44:27.091959Z"
    }
   },
   "cell_type": "code",
   "source": [
    "X, y = load_data(18)\n",
    "X_train, _, y_train, _ = normalize_and_split_data(X, y)\n",
    "do_cross_validation(X_train, y_train)"
   ],
   "id": "6ba2a0eaf7f2c832",
   "outputs": [
    {
     "name": "stdout",
     "output_type": "stream",
     "text": [
      "Epoch 1/200\n",
      "\u001B[1m 88/360\u001B[0m \u001B[32m━━━━\u001B[0m\u001B[37m━━━━━━━━━━━━━━━━\u001B[0m \u001B[1m0s\u001B[0m 1ms/step - accuracy: 0.5066 - loss: 0.7679"
     ]
    },
    {
     "name": "stderr",
     "output_type": "stream",
     "text": [
      "2024-11-25 16:44:28.397553: W tensorflow/core/framework/local_rendezvous.cc:404] Local rendezvous is aborting with status: INVALID_ARGUMENT: condition [0], then [64,32], and else [] must be broadcastable\n",
      "\t [[{{function_node __inference_one_step_on_data_20633717}}{{node sequential_102_1/dropout_204_1/stateless_dropout/SelectV2}}]]\n"
     ]
    },
    {
     "ename": "InvalidArgumentError",
     "evalue": "Graph execution error:\n\nDetected at node sequential_102_1/dropout_204_1/stateless_dropout/SelectV2 defined at (most recent call last):\n  File \"<frozen runpy>\", line 198, in _run_module_as_main\n\n  File \"<frozen runpy>\", line 88, in _run_code\n\n  File \"/Users/jackbrand/PycharmProjects/pythonProject/.venv/lib/python3.11/site-packages/ipykernel_launcher.py\", line 18, in <module>\n\n  File \"/Users/jackbrand/PycharmProjects/pythonProject/.venv/lib/python3.11/site-packages/traitlets/config/application.py\", line 1075, in launch_instance\n\n  File \"/Users/jackbrand/PycharmProjects/pythonProject/.venv/lib/python3.11/site-packages/ipykernel/kernelapp.py\", line 739, in start\n\n  File \"/Users/jackbrand/PycharmProjects/pythonProject/.venv/lib/python3.11/site-packages/tornado/platform/asyncio.py\", line 205, in start\n\n  File \"/Library/Frameworks/Python.framework/Versions/3.11/lib/python3.11/asyncio/base_events.py\", line 607, in run_forever\n\n  File \"/Library/Frameworks/Python.framework/Versions/3.11/lib/python3.11/asyncio/base_events.py\", line 1922, in _run_once\n\n  File \"/Library/Frameworks/Python.framework/Versions/3.11/lib/python3.11/asyncio/events.py\", line 80, in _run\n\n  File \"/Users/jackbrand/PycharmProjects/pythonProject/.venv/lib/python3.11/site-packages/ipykernel/kernelbase.py\", line 545, in dispatch_queue\n\n  File \"/Users/jackbrand/PycharmProjects/pythonProject/.venv/lib/python3.11/site-packages/ipykernel/kernelbase.py\", line 534, in process_one\n\n  File \"/Users/jackbrand/PycharmProjects/pythonProject/.venv/lib/python3.11/site-packages/ipykernel/kernelbase.py\", line 437, in dispatch_shell\n\n  File \"/Users/jackbrand/PycharmProjects/pythonProject/.venv/lib/python3.11/site-packages/ipykernel/ipkernel.py\", line 362, in execute_request\n\n  File \"/Users/jackbrand/PycharmProjects/pythonProject/.venv/lib/python3.11/site-packages/ipykernel/kernelbase.py\", line 778, in execute_request\n\n  File \"/Users/jackbrand/PycharmProjects/pythonProject/.venv/lib/python3.11/site-packages/ipykernel/ipkernel.py\", line 449, in do_execute\n\n  File \"/Users/jackbrand/PycharmProjects/pythonProject/.venv/lib/python3.11/site-packages/ipykernel/zmqshell.py\", line 549, in run_cell\n\n  File \"/Users/jackbrand/PycharmProjects/pythonProject/.venv/lib/python3.11/site-packages/IPython/core/interactiveshell.py\", line 3075, in run_cell\n\n  File \"/Users/jackbrand/PycharmProjects/pythonProject/.venv/lib/python3.11/site-packages/IPython/core/interactiveshell.py\", line 3130, in _run_cell\n\n  File \"/Users/jackbrand/PycharmProjects/pythonProject/.venv/lib/python3.11/site-packages/IPython/core/async_helpers.py\", line 128, in _pseudo_sync_runner\n\n  File \"/Users/jackbrand/PycharmProjects/pythonProject/.venv/lib/python3.11/site-packages/IPython/core/interactiveshell.py\", line 3334, in run_cell_async\n\n  File \"/Users/jackbrand/PycharmProjects/pythonProject/.venv/lib/python3.11/site-packages/IPython/core/interactiveshell.py\", line 3517, in run_ast_nodes\n\n  File \"/Users/jackbrand/PycharmProjects/pythonProject/.venv/lib/python3.11/site-packages/IPython/core/interactiveshell.py\", line 3577, in run_code\n\n  File \"/var/folders/zr/5c228j150wj5kt10sr3qj3yr0000gn/T/ipykernel_44887/2382864869.py\", line 3, in <module>\n\n  File \"/var/folders/zr/5c228j150wj5kt10sr3qj3yr0000gn/T/ipykernel_44887/4094281390.py\", line 7, in do_cross_validation\n\n  File \"/Users/jackbrand/PycharmProjects/pythonProject/.venv/lib/python3.11/site-packages/keras/src/utils/traceback_utils.py\", line 117, in error_handler\n\n  File \"/Users/jackbrand/PycharmProjects/pythonProject/.venv/lib/python3.11/site-packages/keras/src/backend/tensorflow/trainer.py\", line 320, in fit\n\n  File \"/Users/jackbrand/PycharmProjects/pythonProject/.venv/lib/python3.11/site-packages/keras/src/backend/tensorflow/trainer.py\", line 121, in one_step_on_iterator\n\n  File \"/Users/jackbrand/PycharmProjects/pythonProject/.venv/lib/python3.11/site-packages/keras/src/backend/tensorflow/trainer.py\", line 108, in one_step_on_data\n\n  File \"/Users/jackbrand/PycharmProjects/pythonProject/.venv/lib/python3.11/site-packages/keras/src/backend/tensorflow/trainer.py\", line 51, in train_step\n\n  File \"/Users/jackbrand/PycharmProjects/pythonProject/.venv/lib/python3.11/site-packages/keras/src/utils/traceback_utils.py\", line 117, in error_handler\n\n  File \"/Users/jackbrand/PycharmProjects/pythonProject/.venv/lib/python3.11/site-packages/keras/src/layers/layer.py\", line 899, in __call__\n\n  File \"/Users/jackbrand/PycharmProjects/pythonProject/.venv/lib/python3.11/site-packages/keras/src/utils/traceback_utils.py\", line 117, in error_handler\n\n  File \"/Users/jackbrand/PycharmProjects/pythonProject/.venv/lib/python3.11/site-packages/keras/src/ops/operation.py\", line 46, in __call__\n\n  File \"/Users/jackbrand/PycharmProjects/pythonProject/.venv/lib/python3.11/site-packages/keras/src/utils/traceback_utils.py\", line 156, in error_handler\n\n  File \"/Users/jackbrand/PycharmProjects/pythonProject/.venv/lib/python3.11/site-packages/keras/src/models/sequential.py\", line 213, in call\n\n  File \"/Users/jackbrand/PycharmProjects/pythonProject/.venv/lib/python3.11/site-packages/keras/src/models/functional.py\", line 182, in call\n\n  File \"/Users/jackbrand/PycharmProjects/pythonProject/.venv/lib/python3.11/site-packages/keras/src/ops/function.py\", line 171, in _run_through_graph\n\n  File \"/Users/jackbrand/PycharmProjects/pythonProject/.venv/lib/python3.11/site-packages/keras/src/models/functional.py\", line 584, in call\n\n  File \"/Users/jackbrand/PycharmProjects/pythonProject/.venv/lib/python3.11/site-packages/keras/src/utils/traceback_utils.py\", line 117, in error_handler\n\n  File \"/Users/jackbrand/PycharmProjects/pythonProject/.venv/lib/python3.11/site-packages/keras/src/layers/layer.py\", line 899, in __call__\n\n  File \"/Users/jackbrand/PycharmProjects/pythonProject/.venv/lib/python3.11/site-packages/keras/src/utils/traceback_utils.py\", line 117, in error_handler\n\n  File \"/Users/jackbrand/PycharmProjects/pythonProject/.venv/lib/python3.11/site-packages/keras/src/ops/operation.py\", line 46, in __call__\n\n  File \"/Users/jackbrand/PycharmProjects/pythonProject/.venv/lib/python3.11/site-packages/keras/src/utils/traceback_utils.py\", line 156, in error_handler\n\n  File \"/Users/jackbrand/PycharmProjects/pythonProject/.venv/lib/python3.11/site-packages/keras/src/layers/regularization/dropout.py\", line 59, in call\n\n  File \"/Users/jackbrand/PycharmProjects/pythonProject/.venv/lib/python3.11/site-packages/keras/src/backend/tensorflow/random.py\", line 88, in dropout\n\ncondition [0], then [64,32], and else [] must be broadcastable\n\t [[{{node sequential_102_1/dropout_204_1/stateless_dropout/SelectV2}}]] [Op:__inference_one_step_on_iterator_20633802]",
     "output_type": "error",
     "traceback": [
      "\u001B[0;31m---------------------------------------------------------------------------\u001B[0m",
      "\u001B[0;31mInvalidArgumentError\u001B[0m                      Traceback (most recent call last)",
      "Cell \u001B[0;32mIn[56], line 3\u001B[0m\n\u001B[1;32m      1\u001B[0m X, y \u001B[38;5;241m=\u001B[39m load_data(\u001B[38;5;241m18\u001B[39m)\n\u001B[1;32m      2\u001B[0m X_train, _, y_train, _ \u001B[38;5;241m=\u001B[39m normalize_and_split_data(X, y)\n\u001B[0;32m----> 3\u001B[0m \u001B[43mdo_cross_validation\u001B[49m\u001B[43m(\u001B[49m\u001B[43mX_train\u001B[49m\u001B[43m,\u001B[49m\u001B[43m \u001B[49m\u001B[43my_train\u001B[49m\u001B[43m)\u001B[49m\n",
      "Cell \u001B[0;32mIn[40], line 7\u001B[0m, in \u001B[0;36mdo_cross_validation\u001B[0;34m(X_train, y_train)\u001B[0m\n\u001B[1;32m      5\u001B[0m \u001B[38;5;28;01mfor\u001B[39;00m train, val \u001B[38;5;129;01min\u001B[39;00m kfold\u001B[38;5;241m.\u001B[39msplit(X_train, y_train):\n\u001B[1;32m      6\u001B[0m     model \u001B[38;5;241m=\u001B[39m create_model(X_train\u001B[38;5;241m.\u001B[39mshape[\u001B[38;5;241m1\u001B[39m])\n\u001B[0;32m----> 7\u001B[0m     trained_model \u001B[38;5;241m=\u001B[39m \u001B[43mmodel\u001B[49m\u001B[38;5;241;43m.\u001B[39;49m\u001B[43mfit\u001B[49m\u001B[43m(\u001B[49m\u001B[43mX_train\u001B[49m\u001B[43m[\u001B[49m\u001B[43mtrain\u001B[49m\u001B[43m]\u001B[49m\u001B[43m,\u001B[49m\u001B[43m \u001B[49m\u001B[43my_train\u001B[49m\u001B[43m[\u001B[49m\u001B[43mtrain\u001B[49m\u001B[43m]\u001B[49m\u001B[43m,\u001B[49m\u001B[43m \u001B[49m\u001B[43mepochs\u001B[49m\u001B[38;5;241;43m=\u001B[39;49m\u001B[43mnum_epochs\u001B[49m\u001B[43m,\u001B[49m\u001B[43m \u001B[49m\u001B[43mbatch_size\u001B[49m\u001B[38;5;241;43m=\u001B[39;49m\u001B[43mbatch_size\u001B[49m\u001B[43m,\u001B[49m\u001B[43m \u001B[49m\u001B[43mverbose\u001B[49m\u001B[38;5;241;43m=\u001B[39;49m\u001B[38;5;241;43m1\u001B[39;49m\u001B[43m,\u001B[49m\u001B[43m \u001B[49m\u001B[43mvalidation_data\u001B[49m\u001B[38;5;241;43m=\u001B[39;49m\u001B[43m(\u001B[49m\u001B[43mX_train\u001B[49m\u001B[43m[\u001B[49m\u001B[43mval\u001B[49m\u001B[43m]\u001B[49m\u001B[43m,\u001B[49m\u001B[43m \u001B[49m\u001B[43my_train\u001B[49m\u001B[43m[\u001B[49m\u001B[43mval\u001B[49m\u001B[43m]\u001B[49m\u001B[43m)\u001B[49m\u001B[43m)\u001B[49m\n\u001B[1;32m      8\u001B[0m     scores \u001B[38;5;241m=\u001B[39m model\u001B[38;5;241m.\u001B[39mevaluate(X_train[val], y_train[val], verbose\u001B[38;5;241m=\u001B[39m\u001B[38;5;241m0\u001B[39m)\n\u001B[1;32m      9\u001B[0m     accuracies\u001B[38;5;241m.\u001B[39mappend(scores[\u001B[38;5;241m1\u001B[39m])\n",
      "File \u001B[0;32m~/PycharmProjects/pythonProject/.venv/lib/python3.11/site-packages/keras/src/utils/traceback_utils.py:122\u001B[0m, in \u001B[0;36mfilter_traceback.<locals>.error_handler\u001B[0;34m(*args, **kwargs)\u001B[0m\n\u001B[1;32m    119\u001B[0m     filtered_tb \u001B[38;5;241m=\u001B[39m _process_traceback_frames(e\u001B[38;5;241m.\u001B[39m__traceback__)\n\u001B[1;32m    120\u001B[0m     \u001B[38;5;66;03m# To get the full stack trace, call:\u001B[39;00m\n\u001B[1;32m    121\u001B[0m     \u001B[38;5;66;03m# `keras.config.disable_traceback_filtering()`\u001B[39;00m\n\u001B[0;32m--> 122\u001B[0m     \u001B[38;5;28;01mraise\u001B[39;00m e\u001B[38;5;241m.\u001B[39mwith_traceback(filtered_tb) \u001B[38;5;28;01mfrom\u001B[39;00m \u001B[38;5;28;01mNone\u001B[39;00m\n\u001B[1;32m    123\u001B[0m \u001B[38;5;28;01mfinally\u001B[39;00m:\n\u001B[1;32m    124\u001B[0m     \u001B[38;5;28;01mdel\u001B[39;00m filtered_tb\n",
      "File \u001B[0;32m~/PycharmProjects/pythonProject/.venv/lib/python3.11/site-packages/tensorflow/python/eager/execute.py:53\u001B[0m, in \u001B[0;36mquick_execute\u001B[0;34m(op_name, num_outputs, inputs, attrs, ctx, name)\u001B[0m\n\u001B[1;32m     51\u001B[0m \u001B[38;5;28;01mtry\u001B[39;00m:\n\u001B[1;32m     52\u001B[0m   ctx\u001B[38;5;241m.\u001B[39mensure_initialized()\n\u001B[0;32m---> 53\u001B[0m   tensors \u001B[38;5;241m=\u001B[39m pywrap_tfe\u001B[38;5;241m.\u001B[39mTFE_Py_Execute(ctx\u001B[38;5;241m.\u001B[39m_handle, device_name, op_name,\n\u001B[1;32m     54\u001B[0m                                       inputs, attrs, num_outputs)\n\u001B[1;32m     55\u001B[0m \u001B[38;5;28;01mexcept\u001B[39;00m core\u001B[38;5;241m.\u001B[39m_NotOkStatusException \u001B[38;5;28;01mas\u001B[39;00m e:\n\u001B[1;32m     56\u001B[0m   \u001B[38;5;28;01mif\u001B[39;00m name \u001B[38;5;129;01mis\u001B[39;00m \u001B[38;5;129;01mnot\u001B[39;00m \u001B[38;5;28;01mNone\u001B[39;00m:\n",
      "\u001B[0;31mInvalidArgumentError\u001B[0m: Graph execution error:\n\nDetected at node sequential_102_1/dropout_204_1/stateless_dropout/SelectV2 defined at (most recent call last):\n  File \"<frozen runpy>\", line 198, in _run_module_as_main\n\n  File \"<frozen runpy>\", line 88, in _run_code\n\n  File \"/Users/jackbrand/PycharmProjects/pythonProject/.venv/lib/python3.11/site-packages/ipykernel_launcher.py\", line 18, in <module>\n\n  File \"/Users/jackbrand/PycharmProjects/pythonProject/.venv/lib/python3.11/site-packages/traitlets/config/application.py\", line 1075, in launch_instance\n\n  File \"/Users/jackbrand/PycharmProjects/pythonProject/.venv/lib/python3.11/site-packages/ipykernel/kernelapp.py\", line 739, in start\n\n  File \"/Users/jackbrand/PycharmProjects/pythonProject/.venv/lib/python3.11/site-packages/tornado/platform/asyncio.py\", line 205, in start\n\n  File \"/Library/Frameworks/Python.framework/Versions/3.11/lib/python3.11/asyncio/base_events.py\", line 607, in run_forever\n\n  File \"/Library/Frameworks/Python.framework/Versions/3.11/lib/python3.11/asyncio/base_events.py\", line 1922, in _run_once\n\n  File \"/Library/Frameworks/Python.framework/Versions/3.11/lib/python3.11/asyncio/events.py\", line 80, in _run\n\n  File \"/Users/jackbrand/PycharmProjects/pythonProject/.venv/lib/python3.11/site-packages/ipykernel/kernelbase.py\", line 545, in dispatch_queue\n\n  File \"/Users/jackbrand/PycharmProjects/pythonProject/.venv/lib/python3.11/site-packages/ipykernel/kernelbase.py\", line 534, in process_one\n\n  File \"/Users/jackbrand/PycharmProjects/pythonProject/.venv/lib/python3.11/site-packages/ipykernel/kernelbase.py\", line 437, in dispatch_shell\n\n  File \"/Users/jackbrand/PycharmProjects/pythonProject/.venv/lib/python3.11/site-packages/ipykernel/ipkernel.py\", line 362, in execute_request\n\n  File \"/Users/jackbrand/PycharmProjects/pythonProject/.venv/lib/python3.11/site-packages/ipykernel/kernelbase.py\", line 778, in execute_request\n\n  File \"/Users/jackbrand/PycharmProjects/pythonProject/.venv/lib/python3.11/site-packages/ipykernel/ipkernel.py\", line 449, in do_execute\n\n  File \"/Users/jackbrand/PycharmProjects/pythonProject/.venv/lib/python3.11/site-packages/ipykernel/zmqshell.py\", line 549, in run_cell\n\n  File \"/Users/jackbrand/PycharmProjects/pythonProject/.venv/lib/python3.11/site-packages/IPython/core/interactiveshell.py\", line 3075, in run_cell\n\n  File \"/Users/jackbrand/PycharmProjects/pythonProject/.venv/lib/python3.11/site-packages/IPython/core/interactiveshell.py\", line 3130, in _run_cell\n\n  File \"/Users/jackbrand/PycharmProjects/pythonProject/.venv/lib/python3.11/site-packages/IPython/core/async_helpers.py\", line 128, in _pseudo_sync_runner\n\n  File \"/Users/jackbrand/PycharmProjects/pythonProject/.venv/lib/python3.11/site-packages/IPython/core/interactiveshell.py\", line 3334, in run_cell_async\n\n  File \"/Users/jackbrand/PycharmProjects/pythonProject/.venv/lib/python3.11/site-packages/IPython/core/interactiveshell.py\", line 3517, in run_ast_nodes\n\n  File \"/Users/jackbrand/PycharmProjects/pythonProject/.venv/lib/python3.11/site-packages/IPython/core/interactiveshell.py\", line 3577, in run_code\n\n  File \"/var/folders/zr/5c228j150wj5kt10sr3qj3yr0000gn/T/ipykernel_44887/2382864869.py\", line 3, in <module>\n\n  File \"/var/folders/zr/5c228j150wj5kt10sr3qj3yr0000gn/T/ipykernel_44887/4094281390.py\", line 7, in do_cross_validation\n\n  File \"/Users/jackbrand/PycharmProjects/pythonProject/.venv/lib/python3.11/site-packages/keras/src/utils/traceback_utils.py\", line 117, in error_handler\n\n  File \"/Users/jackbrand/PycharmProjects/pythonProject/.venv/lib/python3.11/site-packages/keras/src/backend/tensorflow/trainer.py\", line 320, in fit\n\n  File \"/Users/jackbrand/PycharmProjects/pythonProject/.venv/lib/python3.11/site-packages/keras/src/backend/tensorflow/trainer.py\", line 121, in one_step_on_iterator\n\n  File \"/Users/jackbrand/PycharmProjects/pythonProject/.venv/lib/python3.11/site-packages/keras/src/backend/tensorflow/trainer.py\", line 108, in one_step_on_data\n\n  File \"/Users/jackbrand/PycharmProjects/pythonProject/.venv/lib/python3.11/site-packages/keras/src/backend/tensorflow/trainer.py\", line 51, in train_step\n\n  File \"/Users/jackbrand/PycharmProjects/pythonProject/.venv/lib/python3.11/site-packages/keras/src/utils/traceback_utils.py\", line 117, in error_handler\n\n  File \"/Users/jackbrand/PycharmProjects/pythonProject/.venv/lib/python3.11/site-packages/keras/src/layers/layer.py\", line 899, in __call__\n\n  File \"/Users/jackbrand/PycharmProjects/pythonProject/.venv/lib/python3.11/site-packages/keras/src/utils/traceback_utils.py\", line 117, in error_handler\n\n  File \"/Users/jackbrand/PycharmProjects/pythonProject/.venv/lib/python3.11/site-packages/keras/src/ops/operation.py\", line 46, in __call__\n\n  File \"/Users/jackbrand/PycharmProjects/pythonProject/.venv/lib/python3.11/site-packages/keras/src/utils/traceback_utils.py\", line 156, in error_handler\n\n  File \"/Users/jackbrand/PycharmProjects/pythonProject/.venv/lib/python3.11/site-packages/keras/src/models/sequential.py\", line 213, in call\n\n  File \"/Users/jackbrand/PycharmProjects/pythonProject/.venv/lib/python3.11/site-packages/keras/src/models/functional.py\", line 182, in call\n\n  File \"/Users/jackbrand/PycharmProjects/pythonProject/.venv/lib/python3.11/site-packages/keras/src/ops/function.py\", line 171, in _run_through_graph\n\n  File \"/Users/jackbrand/PycharmProjects/pythonProject/.venv/lib/python3.11/site-packages/keras/src/models/functional.py\", line 584, in call\n\n  File \"/Users/jackbrand/PycharmProjects/pythonProject/.venv/lib/python3.11/site-packages/keras/src/utils/traceback_utils.py\", line 117, in error_handler\n\n  File \"/Users/jackbrand/PycharmProjects/pythonProject/.venv/lib/python3.11/site-packages/keras/src/layers/layer.py\", line 899, in __call__\n\n  File \"/Users/jackbrand/PycharmProjects/pythonProject/.venv/lib/python3.11/site-packages/keras/src/utils/traceback_utils.py\", line 117, in error_handler\n\n  File \"/Users/jackbrand/PycharmProjects/pythonProject/.venv/lib/python3.11/site-packages/keras/src/ops/operation.py\", line 46, in __call__\n\n  File \"/Users/jackbrand/PycharmProjects/pythonProject/.venv/lib/python3.11/site-packages/keras/src/utils/traceback_utils.py\", line 156, in error_handler\n\n  File \"/Users/jackbrand/PycharmProjects/pythonProject/.venv/lib/python3.11/site-packages/keras/src/layers/regularization/dropout.py\", line 59, in call\n\n  File \"/Users/jackbrand/PycharmProjects/pythonProject/.venv/lib/python3.11/site-packages/keras/src/backend/tensorflow/random.py\", line 88, in dropout\n\ncondition [0], then [64,32], and else [] must be broadcastable\n\t [[{{node sequential_102_1/dropout_204_1/stateless_dropout/SelectV2}}]] [Op:__inference_one_step_on_iterator_20633802]"
     ]
    }
   ],
   "execution_count": 56
  },
  {
   "metadata": {
    "ExecuteTime": {
     "end_time": "2024-11-24T00:03:48.849350Z",
     "start_time": "2024-11-24T00:03:48.845797Z"
    }
   },
   "cell_type": "code",
   "source": [
    "def train_and_test_model(X_train, X_test, y_train, y_test, verbose=0):\n",
    "    model = create_model(X_train.shape[1])\n",
    "    model.fit(X_train, y_train, epochs=num_epochs, batch_size=batch_size, verbose=verbose)\n",
    "    y_prediction_probabilities = model.predict(X_test).flatten()\n",
    "    y_preds = (y_prediction_probabilities > 0.5).astype(int)\n",
    "\n",
    "    accuracy = accuracy_score(y_test, y_preds)\n",
    "    return accuracy"
   ],
   "id": "914a7b8b58e33549",
   "outputs": [],
   "execution_count": 41
  },
  {
   "metadata": {
    "ExecuteTime": {
     "end_time": "2024-11-25T16:16:55.225392Z",
     "start_time": "2024-11-25T16:14:12.710498Z"
    }
   },
   "cell_type": "code",
   "source": [
    "feature_dimensions = [9, 12, 15, 18, 24][::-1]\n",
    "target_accuracies = [0.95, 0.925, 0.9, 0.875, 0.8][::-1]\n",
    "# feature_dimensions = [9, 12, 15]\n",
    "# target_accuracies = [0.95, 0.925, 0.9]\n",
    "model_accuracies = []\n",
    "for n in feature_dimensions:\n",
    "    X, y = load_data(n)\n",
    "    X_train, X_test, y_train, y_test = normalize_and_split_data(X, y)\n",
    "    print(f\"Beginning training n={n}\")\n",
    "    accuracy = train_and_test_model(X_train, X_test, y_train, y_test)\n",
    "    model_accuracies.append(accuracy)\n",
    "    print(f\"Accuracy = {accuracy}\")\n",
    "\n",
    "# Assuming `feature_dimensions`, `model_accuracies`, and `target_accuracies` are predefined lists\n",
    "data = pd.DataFrame({\n",
    "    'Feature Dimensions': feature_dimensions * 2,\n",
    "    'Accuracy': model_accuracies + target_accuracies,\n",
    "    'Type': ['Model Accuracy'] * len(model_accuracies) + ['Target Accuracy'] * len(target_accuracies)\n",
    "})\n",
    "\n",
    "# Plot using Seaborn\n",
    "sns.set(style='whitegrid')\n",
    "plt.figure(figsize=(10, 6))\n",
    "plot = sns.lineplot(\n",
    "    data=data, x='Feature Dimensions', y='Accuracy', hue='Type',\n",
    "    marker='o', style='Type', palette='pastel'\n",
    ")\n",
    "\n",
    "# Add data labels\n",
    "for x, y, label in zip(data['Feature Dimensions'], data['Accuracy'], data['Accuracy']):\n",
    "    plt.text(x, y, f'{label:.2f}', fontsize=10, ha='right', va='bottom')\n",
    "\n",
    "# Customize the plot\n",
    "plt.title('Model Accuracies vs Target Accuracies Across Feature Dimensions')\n",
    "plt.xlabel('Feature Dimensions of Kryptonite-n (n)')\n",
    "plt.ylabel('Accuracy')\n",
    "plt.legend()\n",
    "plt.grid(True)\n",
    "plt.show()"
   ],
   "id": "1f041ffbfe213e57",
   "outputs": [
    {
     "name": "stdout",
     "output_type": "stream",
     "text": [
      "Beginning training n=24\n"
     ]
    },
    {
     "name": "stderr",
     "output_type": "stream",
     "text": [
      "2024-11-25 16:16:55.098650: W tensorflow/core/framework/local_rendezvous.cc:404] Local rendezvous is aborting with status: INVALID_ARGUMENT: condition [0], then [64,32], and else [] must be broadcastable\n",
      "\t [[{{function_node __inference_one_step_on_data_19077109}}{{node sequential_97_1/dropout_194_1/stateless_dropout/SelectV2}}]]\n"
     ]
    },
    {
     "ename": "InvalidArgumentError",
     "evalue": "Graph execution error:\n\nDetected at node sequential_97_1/dropout_194_1/stateless_dropout/SelectV2 defined at (most recent call last):\n  File \"<frozen runpy>\", line 198, in _run_module_as_main\n\n  File \"<frozen runpy>\", line 88, in _run_code\n\n  File \"/Users/jackbrand/PycharmProjects/pythonProject/.venv/lib/python3.11/site-packages/ipykernel_launcher.py\", line 18, in <module>\n\n  File \"/Users/jackbrand/PycharmProjects/pythonProject/.venv/lib/python3.11/site-packages/traitlets/config/application.py\", line 1075, in launch_instance\n\n  File \"/Users/jackbrand/PycharmProjects/pythonProject/.venv/lib/python3.11/site-packages/ipykernel/kernelapp.py\", line 739, in start\n\n  File \"/Users/jackbrand/PycharmProjects/pythonProject/.venv/lib/python3.11/site-packages/tornado/platform/asyncio.py\", line 205, in start\n\n  File \"/Library/Frameworks/Python.framework/Versions/3.11/lib/python3.11/asyncio/base_events.py\", line 607, in run_forever\n\n  File \"/Library/Frameworks/Python.framework/Versions/3.11/lib/python3.11/asyncio/base_events.py\", line 1922, in _run_once\n\n  File \"/Library/Frameworks/Python.framework/Versions/3.11/lib/python3.11/asyncio/events.py\", line 80, in _run\n\n  File \"/Users/jackbrand/PycharmProjects/pythonProject/.venv/lib/python3.11/site-packages/ipykernel/kernelbase.py\", line 545, in dispatch_queue\n\n  File \"/Users/jackbrand/PycharmProjects/pythonProject/.venv/lib/python3.11/site-packages/ipykernel/kernelbase.py\", line 534, in process_one\n\n  File \"/Users/jackbrand/PycharmProjects/pythonProject/.venv/lib/python3.11/site-packages/ipykernel/kernelbase.py\", line 437, in dispatch_shell\n\n  File \"/Users/jackbrand/PycharmProjects/pythonProject/.venv/lib/python3.11/site-packages/ipykernel/ipkernel.py\", line 362, in execute_request\n\n  File \"/Users/jackbrand/PycharmProjects/pythonProject/.venv/lib/python3.11/site-packages/ipykernel/kernelbase.py\", line 778, in execute_request\n\n  File \"/Users/jackbrand/PycharmProjects/pythonProject/.venv/lib/python3.11/site-packages/ipykernel/ipkernel.py\", line 449, in do_execute\n\n  File \"/Users/jackbrand/PycharmProjects/pythonProject/.venv/lib/python3.11/site-packages/ipykernel/zmqshell.py\", line 549, in run_cell\n\n  File \"/Users/jackbrand/PycharmProjects/pythonProject/.venv/lib/python3.11/site-packages/IPython/core/interactiveshell.py\", line 3075, in run_cell\n\n  File \"/Users/jackbrand/PycharmProjects/pythonProject/.venv/lib/python3.11/site-packages/IPython/core/interactiveshell.py\", line 3130, in _run_cell\n\n  File \"/Users/jackbrand/PycharmProjects/pythonProject/.venv/lib/python3.11/site-packages/IPython/core/async_helpers.py\", line 128, in _pseudo_sync_runner\n\n  File \"/Users/jackbrand/PycharmProjects/pythonProject/.venv/lib/python3.11/site-packages/IPython/core/interactiveshell.py\", line 3334, in run_cell_async\n\n  File \"/Users/jackbrand/PycharmProjects/pythonProject/.venv/lib/python3.11/site-packages/IPython/core/interactiveshell.py\", line 3517, in run_ast_nodes\n\n  File \"/Users/jackbrand/PycharmProjects/pythonProject/.venv/lib/python3.11/site-packages/IPython/core/interactiveshell.py\", line 3577, in run_code\n\n  File \"/var/folders/zr/5c228j150wj5kt10sr3qj3yr0000gn/T/ipykernel_44887/2424318830.py\", line 10, in <module>\n\n  File \"/var/folders/zr/5c228j150wj5kt10sr3qj3yr0000gn/T/ipykernel_44887/357410316.py\", line 3, in train_and_test_model\n\n  File \"/Users/jackbrand/PycharmProjects/pythonProject/.venv/lib/python3.11/site-packages/keras/src/utils/traceback_utils.py\", line 117, in error_handler\n\n  File \"/Users/jackbrand/PycharmProjects/pythonProject/.venv/lib/python3.11/site-packages/keras/src/backend/tensorflow/trainer.py\", line 320, in fit\n\n  File \"/Users/jackbrand/PycharmProjects/pythonProject/.venv/lib/python3.11/site-packages/keras/src/backend/tensorflow/trainer.py\", line 121, in one_step_on_iterator\n\n  File \"/Users/jackbrand/PycharmProjects/pythonProject/.venv/lib/python3.11/site-packages/keras/src/backend/tensorflow/trainer.py\", line 108, in one_step_on_data\n\n  File \"/Users/jackbrand/PycharmProjects/pythonProject/.venv/lib/python3.11/site-packages/keras/src/backend/tensorflow/trainer.py\", line 51, in train_step\n\n  File \"/Users/jackbrand/PycharmProjects/pythonProject/.venv/lib/python3.11/site-packages/keras/src/utils/traceback_utils.py\", line 117, in error_handler\n\n  File \"/Users/jackbrand/PycharmProjects/pythonProject/.venv/lib/python3.11/site-packages/keras/src/layers/layer.py\", line 899, in __call__\n\n  File \"/Users/jackbrand/PycharmProjects/pythonProject/.venv/lib/python3.11/site-packages/keras/src/utils/traceback_utils.py\", line 117, in error_handler\n\n  File \"/Users/jackbrand/PycharmProjects/pythonProject/.venv/lib/python3.11/site-packages/keras/src/ops/operation.py\", line 46, in __call__\n\n  File \"/Users/jackbrand/PycharmProjects/pythonProject/.venv/lib/python3.11/site-packages/keras/src/utils/traceback_utils.py\", line 156, in error_handler\n\n  File \"/Users/jackbrand/PycharmProjects/pythonProject/.venv/lib/python3.11/site-packages/keras/src/models/sequential.py\", line 213, in call\n\n  File \"/Users/jackbrand/PycharmProjects/pythonProject/.venv/lib/python3.11/site-packages/keras/src/models/functional.py\", line 182, in call\n\n  File \"/Users/jackbrand/PycharmProjects/pythonProject/.venv/lib/python3.11/site-packages/keras/src/ops/function.py\", line 171, in _run_through_graph\n\n  File \"/Users/jackbrand/PycharmProjects/pythonProject/.venv/lib/python3.11/site-packages/keras/src/models/functional.py\", line 584, in call\n\n  File \"/Users/jackbrand/PycharmProjects/pythonProject/.venv/lib/python3.11/site-packages/keras/src/utils/traceback_utils.py\", line 117, in error_handler\n\n  File \"/Users/jackbrand/PycharmProjects/pythonProject/.venv/lib/python3.11/site-packages/keras/src/layers/layer.py\", line 899, in __call__\n\n  File \"/Users/jackbrand/PycharmProjects/pythonProject/.venv/lib/python3.11/site-packages/keras/src/utils/traceback_utils.py\", line 117, in error_handler\n\n  File \"/Users/jackbrand/PycharmProjects/pythonProject/.venv/lib/python3.11/site-packages/keras/src/ops/operation.py\", line 46, in __call__\n\n  File \"/Users/jackbrand/PycharmProjects/pythonProject/.venv/lib/python3.11/site-packages/keras/src/utils/traceback_utils.py\", line 156, in error_handler\n\n  File \"/Users/jackbrand/PycharmProjects/pythonProject/.venv/lib/python3.11/site-packages/keras/src/layers/regularization/dropout.py\", line 59, in call\n\n  File \"/Users/jackbrand/PycharmProjects/pythonProject/.venv/lib/python3.11/site-packages/keras/src/backend/tensorflow/random.py\", line 88, in dropout\n\ncondition [0], then [64,32], and else [] must be broadcastable\n\t [[{{node sequential_97_1/dropout_194_1/stateless_dropout/SelectV2}}]] [Op:__inference_one_step_on_iterator_19077194]",
     "output_type": "error",
     "traceback": [
      "\u001B[0;31m---------------------------------------------------------------------------\u001B[0m",
      "\u001B[0;31mInvalidArgumentError\u001B[0m                      Traceback (most recent call last)",
      "Cell \u001B[0;32mIn[54], line 10\u001B[0m\n\u001B[1;32m      8\u001B[0m X_train, X_test, y_train, y_test \u001B[38;5;241m=\u001B[39m normalize_and_split_data(X, y)\n\u001B[1;32m      9\u001B[0m \u001B[38;5;28mprint\u001B[39m(\u001B[38;5;124mf\u001B[39m\u001B[38;5;124m\"\u001B[39m\u001B[38;5;124mBeginning training n=\u001B[39m\u001B[38;5;132;01m{\u001B[39;00mn\u001B[38;5;132;01m}\u001B[39;00m\u001B[38;5;124m\"\u001B[39m)\n\u001B[0;32m---> 10\u001B[0m accuracy \u001B[38;5;241m=\u001B[39m \u001B[43mtrain_and_test_model\u001B[49m\u001B[43m(\u001B[49m\u001B[43mX_train\u001B[49m\u001B[43m,\u001B[49m\u001B[43m \u001B[49m\u001B[43mX_test\u001B[49m\u001B[43m,\u001B[49m\u001B[43m \u001B[49m\u001B[43my_train\u001B[49m\u001B[43m,\u001B[49m\u001B[43m \u001B[49m\u001B[43my_test\u001B[49m\u001B[43m)\u001B[49m\n\u001B[1;32m     11\u001B[0m model_accuracies\u001B[38;5;241m.\u001B[39mappend(accuracy)\n\u001B[1;32m     12\u001B[0m \u001B[38;5;28mprint\u001B[39m(\u001B[38;5;124mf\u001B[39m\u001B[38;5;124m\"\u001B[39m\u001B[38;5;124mAccuracy = \u001B[39m\u001B[38;5;132;01m{\u001B[39;00maccuracy\u001B[38;5;132;01m}\u001B[39;00m\u001B[38;5;124m\"\u001B[39m)\n",
      "Cell \u001B[0;32mIn[41], line 3\u001B[0m, in \u001B[0;36mtrain_and_test_model\u001B[0;34m(X_train, X_test, y_train, y_test, verbose)\u001B[0m\n\u001B[1;32m      1\u001B[0m \u001B[38;5;28;01mdef\u001B[39;00m \u001B[38;5;21mtrain_and_test_model\u001B[39m(X_train, X_test, y_train, y_test, verbose\u001B[38;5;241m=\u001B[39m\u001B[38;5;241m0\u001B[39m):\n\u001B[1;32m      2\u001B[0m     model \u001B[38;5;241m=\u001B[39m create_model(X_train\u001B[38;5;241m.\u001B[39mshape[\u001B[38;5;241m1\u001B[39m])\n\u001B[0;32m----> 3\u001B[0m     \u001B[43mmodel\u001B[49m\u001B[38;5;241;43m.\u001B[39;49m\u001B[43mfit\u001B[49m\u001B[43m(\u001B[49m\u001B[43mX_train\u001B[49m\u001B[43m,\u001B[49m\u001B[43m \u001B[49m\u001B[43my_train\u001B[49m\u001B[43m,\u001B[49m\u001B[43m \u001B[49m\u001B[43mepochs\u001B[49m\u001B[38;5;241;43m=\u001B[39;49m\u001B[43mnum_epochs\u001B[49m\u001B[43m,\u001B[49m\u001B[43m \u001B[49m\u001B[43mbatch_size\u001B[49m\u001B[38;5;241;43m=\u001B[39;49m\u001B[43mbatch_size\u001B[49m\u001B[43m,\u001B[49m\u001B[43m \u001B[49m\u001B[43mverbose\u001B[49m\u001B[38;5;241;43m=\u001B[39;49m\u001B[43mverbose\u001B[49m\u001B[43m)\u001B[49m\n\u001B[1;32m      4\u001B[0m     y_prediction_probabilities \u001B[38;5;241m=\u001B[39m model\u001B[38;5;241m.\u001B[39mpredict(X_test)\u001B[38;5;241m.\u001B[39mflatten()\n\u001B[1;32m      5\u001B[0m     y_preds \u001B[38;5;241m=\u001B[39m (y_prediction_probabilities \u001B[38;5;241m>\u001B[39m \u001B[38;5;241m0.5\u001B[39m)\u001B[38;5;241m.\u001B[39mastype(\u001B[38;5;28mint\u001B[39m)\n",
      "File \u001B[0;32m~/PycharmProjects/pythonProject/.venv/lib/python3.11/site-packages/keras/src/utils/traceback_utils.py:122\u001B[0m, in \u001B[0;36mfilter_traceback.<locals>.error_handler\u001B[0;34m(*args, **kwargs)\u001B[0m\n\u001B[1;32m    119\u001B[0m     filtered_tb \u001B[38;5;241m=\u001B[39m _process_traceback_frames(e\u001B[38;5;241m.\u001B[39m__traceback__)\n\u001B[1;32m    120\u001B[0m     \u001B[38;5;66;03m# To get the full stack trace, call:\u001B[39;00m\n\u001B[1;32m    121\u001B[0m     \u001B[38;5;66;03m# `keras.config.disable_traceback_filtering()`\u001B[39;00m\n\u001B[0;32m--> 122\u001B[0m     \u001B[38;5;28;01mraise\u001B[39;00m e\u001B[38;5;241m.\u001B[39mwith_traceback(filtered_tb) \u001B[38;5;28;01mfrom\u001B[39;00m \u001B[38;5;28;01mNone\u001B[39;00m\n\u001B[1;32m    123\u001B[0m \u001B[38;5;28;01mfinally\u001B[39;00m:\n\u001B[1;32m    124\u001B[0m     \u001B[38;5;28;01mdel\u001B[39;00m filtered_tb\n",
      "File \u001B[0;32m~/PycharmProjects/pythonProject/.venv/lib/python3.11/site-packages/tensorflow/python/eager/execute.py:53\u001B[0m, in \u001B[0;36mquick_execute\u001B[0;34m(op_name, num_outputs, inputs, attrs, ctx, name)\u001B[0m\n\u001B[1;32m     51\u001B[0m \u001B[38;5;28;01mtry\u001B[39;00m:\n\u001B[1;32m     52\u001B[0m   ctx\u001B[38;5;241m.\u001B[39mensure_initialized()\n\u001B[0;32m---> 53\u001B[0m   tensors \u001B[38;5;241m=\u001B[39m pywrap_tfe\u001B[38;5;241m.\u001B[39mTFE_Py_Execute(ctx\u001B[38;5;241m.\u001B[39m_handle, device_name, op_name,\n\u001B[1;32m     54\u001B[0m                                       inputs, attrs, num_outputs)\n\u001B[1;32m     55\u001B[0m \u001B[38;5;28;01mexcept\u001B[39;00m core\u001B[38;5;241m.\u001B[39m_NotOkStatusException \u001B[38;5;28;01mas\u001B[39;00m e:\n\u001B[1;32m     56\u001B[0m   \u001B[38;5;28;01mif\u001B[39;00m name \u001B[38;5;129;01mis\u001B[39;00m \u001B[38;5;129;01mnot\u001B[39;00m \u001B[38;5;28;01mNone\u001B[39;00m:\n",
      "\u001B[0;31mInvalidArgumentError\u001B[0m: Graph execution error:\n\nDetected at node sequential_97_1/dropout_194_1/stateless_dropout/SelectV2 defined at (most recent call last):\n  File \"<frozen runpy>\", line 198, in _run_module_as_main\n\n  File \"<frozen runpy>\", line 88, in _run_code\n\n  File \"/Users/jackbrand/PycharmProjects/pythonProject/.venv/lib/python3.11/site-packages/ipykernel_launcher.py\", line 18, in <module>\n\n  File \"/Users/jackbrand/PycharmProjects/pythonProject/.venv/lib/python3.11/site-packages/traitlets/config/application.py\", line 1075, in launch_instance\n\n  File \"/Users/jackbrand/PycharmProjects/pythonProject/.venv/lib/python3.11/site-packages/ipykernel/kernelapp.py\", line 739, in start\n\n  File \"/Users/jackbrand/PycharmProjects/pythonProject/.venv/lib/python3.11/site-packages/tornado/platform/asyncio.py\", line 205, in start\n\n  File \"/Library/Frameworks/Python.framework/Versions/3.11/lib/python3.11/asyncio/base_events.py\", line 607, in run_forever\n\n  File \"/Library/Frameworks/Python.framework/Versions/3.11/lib/python3.11/asyncio/base_events.py\", line 1922, in _run_once\n\n  File \"/Library/Frameworks/Python.framework/Versions/3.11/lib/python3.11/asyncio/events.py\", line 80, in _run\n\n  File \"/Users/jackbrand/PycharmProjects/pythonProject/.venv/lib/python3.11/site-packages/ipykernel/kernelbase.py\", line 545, in dispatch_queue\n\n  File \"/Users/jackbrand/PycharmProjects/pythonProject/.venv/lib/python3.11/site-packages/ipykernel/kernelbase.py\", line 534, in process_one\n\n  File \"/Users/jackbrand/PycharmProjects/pythonProject/.venv/lib/python3.11/site-packages/ipykernel/kernelbase.py\", line 437, in dispatch_shell\n\n  File \"/Users/jackbrand/PycharmProjects/pythonProject/.venv/lib/python3.11/site-packages/ipykernel/ipkernel.py\", line 362, in execute_request\n\n  File \"/Users/jackbrand/PycharmProjects/pythonProject/.venv/lib/python3.11/site-packages/ipykernel/kernelbase.py\", line 778, in execute_request\n\n  File \"/Users/jackbrand/PycharmProjects/pythonProject/.venv/lib/python3.11/site-packages/ipykernel/ipkernel.py\", line 449, in do_execute\n\n  File \"/Users/jackbrand/PycharmProjects/pythonProject/.venv/lib/python3.11/site-packages/ipykernel/zmqshell.py\", line 549, in run_cell\n\n  File \"/Users/jackbrand/PycharmProjects/pythonProject/.venv/lib/python3.11/site-packages/IPython/core/interactiveshell.py\", line 3075, in run_cell\n\n  File \"/Users/jackbrand/PycharmProjects/pythonProject/.venv/lib/python3.11/site-packages/IPython/core/interactiveshell.py\", line 3130, in _run_cell\n\n  File \"/Users/jackbrand/PycharmProjects/pythonProject/.venv/lib/python3.11/site-packages/IPython/core/async_helpers.py\", line 128, in _pseudo_sync_runner\n\n  File \"/Users/jackbrand/PycharmProjects/pythonProject/.venv/lib/python3.11/site-packages/IPython/core/interactiveshell.py\", line 3334, in run_cell_async\n\n  File \"/Users/jackbrand/PycharmProjects/pythonProject/.venv/lib/python3.11/site-packages/IPython/core/interactiveshell.py\", line 3517, in run_ast_nodes\n\n  File \"/Users/jackbrand/PycharmProjects/pythonProject/.venv/lib/python3.11/site-packages/IPython/core/interactiveshell.py\", line 3577, in run_code\n\n  File \"/var/folders/zr/5c228j150wj5kt10sr3qj3yr0000gn/T/ipykernel_44887/2424318830.py\", line 10, in <module>\n\n  File \"/var/folders/zr/5c228j150wj5kt10sr3qj3yr0000gn/T/ipykernel_44887/357410316.py\", line 3, in train_and_test_model\n\n  File \"/Users/jackbrand/PycharmProjects/pythonProject/.venv/lib/python3.11/site-packages/keras/src/utils/traceback_utils.py\", line 117, in error_handler\n\n  File \"/Users/jackbrand/PycharmProjects/pythonProject/.venv/lib/python3.11/site-packages/keras/src/backend/tensorflow/trainer.py\", line 320, in fit\n\n  File \"/Users/jackbrand/PycharmProjects/pythonProject/.venv/lib/python3.11/site-packages/keras/src/backend/tensorflow/trainer.py\", line 121, in one_step_on_iterator\n\n  File \"/Users/jackbrand/PycharmProjects/pythonProject/.venv/lib/python3.11/site-packages/keras/src/backend/tensorflow/trainer.py\", line 108, in one_step_on_data\n\n  File \"/Users/jackbrand/PycharmProjects/pythonProject/.venv/lib/python3.11/site-packages/keras/src/backend/tensorflow/trainer.py\", line 51, in train_step\n\n  File \"/Users/jackbrand/PycharmProjects/pythonProject/.venv/lib/python3.11/site-packages/keras/src/utils/traceback_utils.py\", line 117, in error_handler\n\n  File \"/Users/jackbrand/PycharmProjects/pythonProject/.venv/lib/python3.11/site-packages/keras/src/layers/layer.py\", line 899, in __call__\n\n  File \"/Users/jackbrand/PycharmProjects/pythonProject/.venv/lib/python3.11/site-packages/keras/src/utils/traceback_utils.py\", line 117, in error_handler\n\n  File \"/Users/jackbrand/PycharmProjects/pythonProject/.venv/lib/python3.11/site-packages/keras/src/ops/operation.py\", line 46, in __call__\n\n  File \"/Users/jackbrand/PycharmProjects/pythonProject/.venv/lib/python3.11/site-packages/keras/src/utils/traceback_utils.py\", line 156, in error_handler\n\n  File \"/Users/jackbrand/PycharmProjects/pythonProject/.venv/lib/python3.11/site-packages/keras/src/models/sequential.py\", line 213, in call\n\n  File \"/Users/jackbrand/PycharmProjects/pythonProject/.venv/lib/python3.11/site-packages/keras/src/models/functional.py\", line 182, in call\n\n  File \"/Users/jackbrand/PycharmProjects/pythonProject/.venv/lib/python3.11/site-packages/keras/src/ops/function.py\", line 171, in _run_through_graph\n\n  File \"/Users/jackbrand/PycharmProjects/pythonProject/.venv/lib/python3.11/site-packages/keras/src/models/functional.py\", line 584, in call\n\n  File \"/Users/jackbrand/PycharmProjects/pythonProject/.venv/lib/python3.11/site-packages/keras/src/utils/traceback_utils.py\", line 117, in error_handler\n\n  File \"/Users/jackbrand/PycharmProjects/pythonProject/.venv/lib/python3.11/site-packages/keras/src/layers/layer.py\", line 899, in __call__\n\n  File \"/Users/jackbrand/PycharmProjects/pythonProject/.venv/lib/python3.11/site-packages/keras/src/utils/traceback_utils.py\", line 117, in error_handler\n\n  File \"/Users/jackbrand/PycharmProjects/pythonProject/.venv/lib/python3.11/site-packages/keras/src/ops/operation.py\", line 46, in __call__\n\n  File \"/Users/jackbrand/PycharmProjects/pythonProject/.venv/lib/python3.11/site-packages/keras/src/utils/traceback_utils.py\", line 156, in error_handler\n\n  File \"/Users/jackbrand/PycharmProjects/pythonProject/.venv/lib/python3.11/site-packages/keras/src/layers/regularization/dropout.py\", line 59, in call\n\n  File \"/Users/jackbrand/PycharmProjects/pythonProject/.venv/lib/python3.11/site-packages/keras/src/backend/tensorflow/random.py\", line 88, in dropout\n\ncondition [0], then [64,32], and else [] must be broadcastable\n\t [[{{node sequential_97_1/dropout_194_1/stateless_dropout/SelectV2}}]] [Op:__inference_one_step_on_iterator_19077194]"
     ]
    }
   ],
   "execution_count": 54
  }
 ],
 "metadata": {
  "kernelspec": {
   "display_name": "Python 3 (ipykernel)",
   "language": "python",
   "name": "python3"
  },
  "language_info": {
   "codemirror_mode": {
    "name": "ipython",
    "version": 3
   },
   "file_extension": ".py",
   "mimetype": "text/x-python",
   "name": "python",
   "nbconvert_exporter": "python",
   "pygments_lexer": "ipython3",
   "version": "3.9.16"
  }
 },
 "nbformat": 4,
 "nbformat_minor": 5
}
